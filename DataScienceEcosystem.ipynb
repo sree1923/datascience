{
 "cells": [
  {
   "cell_type": "markdown",
   "id": "17b2a307",
   "metadata": {},
   "source": [
    "# Data Science Tools and Ecosystem"
   ]
  },
  {
   "cell_type": "markdown",
   "id": "c2171989",
   "metadata": {},
   "source": [
    "### This notebook is a summary of Data Science Tools and Ecosystem"
   ]
  },
  {
   "cell_type": "markdown",
   "id": "cdf1bde8",
   "metadata": {},
   "source": [
    "### Objectives:\n",
    "* List popular languages for Data Science\n",
    "* Commonly used Data Science libaries\n",
    "* Arithematic expressions\n",
    "    "
   ]
  },
  {
   "cell_type": "markdown",
   "id": "42fa620c",
   "metadata": {},
   "source": [
    "Most popular Data Science languages:\n",
    "1. Python\n",
    "2. R\n",
    "3. Scala\n",
    "4. SQL\n",
    "5. Julia\n",
    "6. Go"
   ]
  },
  {
   "cell_type": "markdown",
   "id": "d17e40e4",
   "metadata": {},
   "source": [
    "Some of the commonly used Data Science libaries are:\n",
    "1. Pandas\n",
    "2. NumPy\n",
    "3. Matplotlib\n",
    "4. Scikit-learn\n",
    "5. Seaborn\n",
    "6. TensorFlow\n",
    "7. Keras\n",
    "8. SciPy\n",
    "9. Plotly\n",
    "10. PyTorch"
   ]
  },
  {
   "cell_type": "markdown",
   "id": "e3c27b90",
   "metadata": {},
   "source": [
    " | Data Science Tools |  \n",
    " |-----------------   | \n",
    " | Jupyter Notebook   |  \n",
    " | R Studio           |  \n",
    " | Zeppelin Notebooks | "
   ]
  },
  {
   "cell_type": "markdown",
   "id": "f29f81ad",
   "metadata": {},
   "source": [
    "### Below are a few examples of evaluating arithmetic expressions in Python"
   ]
  },
  {
   "cell_type": "markdown",
   "id": "dae102ee",
   "metadata": {},
   "source": [
    "3 + 2\n",
    "2*3\n",
    "5/2\n",
    "2**3"
   ]
  },
  {
   "cell_type": "code",
   "execution_count": 5,
   "id": "0a5db101",
   "metadata": {},
   "outputs": [
    {
     "data": {
      "text/plain": [
       "17"
      ]
     },
     "execution_count": 5,
     "metadata": {},
     "output_type": "execute_result"
    }
   ],
   "source": [
    "#This a simple arithmetic expression to mutiply then add integers\n",
    "(3*4)+5"
   ]
  },
  {
   "cell_type": "code",
   "execution_count": 6,
   "id": "e12635ac",
   "metadata": {},
   "outputs": [
    {
     "name": "stdout",
     "output_type": "stream",
     "text": [
      "3.3333333333333335\n"
     ]
    }
   ],
   "source": [
    "#This will convert 200 minutes to hours by diving by 60\n",
    "minutes = 200\n",
    "hours = minutes / 60\n",
    "print(hours)"
   ]
  },
  {
   "cell_type": "markdown",
   "id": "76d65cb8",
   "metadata": {},
   "source": [
    "## Author\n",
    "Sreelekha"
   ]
  },
  {
   "cell_type": "code",
   "execution_count": null,
   "id": "327aa4b3",
   "metadata": {},
   "outputs": [],
   "source": []
  }
 ],
 "metadata": {
  "kernelspec": {
   "display_name": "Python 3 (ipykernel)",
   "language": "python",
   "name": "python3"
  },
  "language_info": {
   "codemirror_mode": {
    "name": "ipython",
    "version": 3
   },
   "file_extension": ".py",
   "mimetype": "text/x-python",
   "name": "python",
   "nbconvert_exporter": "python",
   "pygments_lexer": "ipython3",
   "version": "3.9.7"
  }
 },
 "nbformat": 4,
 "nbformat_minor": 5
}
